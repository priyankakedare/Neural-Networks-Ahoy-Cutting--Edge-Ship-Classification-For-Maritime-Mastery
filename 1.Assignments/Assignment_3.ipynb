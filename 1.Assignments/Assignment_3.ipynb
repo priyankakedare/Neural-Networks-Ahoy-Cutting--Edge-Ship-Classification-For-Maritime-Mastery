{
  "cells": [
    {
      "cell_type": "code",
      "execution_count": null,
      "id": "e1b9d03c-c526-4003-86cf-0f8bedc06416",
      "metadata": {
        "id": "e1b9d03c-c526-4003-86cf-0f8bedc06416"
      },
      "outputs": [],
      "source": [
        "import pandas as pd\n",
        "import numpy as np\n",
        "from sklearn.preprocessing import StandardScaler, LabelEncoder\n",
        "from matplotlib import pyplot as plt\n"
      ]
    },
    {
      "cell_type": "code",
      "execution_count": null,
      "id": "635508c7-b6ac-4a48-abe8-9ed56a56e27a",
      "metadata": {
        "id": "635508c7-b6ac-4a48-abe8-9ed56a56e27a"
      },
      "outputs": [],
      "source": [
        "data = pd.read_csv(\"drug200.csv\")"
      ]
    },
    {
      "cell_type": "code",
      "execution_count": null,
      "id": "0b64368a-a817-4ca5-8cb0-7580df9dfd68",
      "metadata": {
        "colab": {
          "base_uri": "https://localhost:8080/",
          "height": 206
        },
        "id": "0b64368a-a817-4ca5-8cb0-7580df9dfd68",
        "outputId": "5495c13d-cd7f-4f2b-c4e9-a3438db4446c"
      },
      "outputs": [
        {
          "data": {
            "application/vnd.google.colaboratory.intrinsic+json": {
              "summary": "{\n  \"name\": \"data\",\n  \"rows\": 200,\n  \"fields\": [\n    {\n      \"column\": \"Age\",\n      \"properties\": {\n        \"dtype\": \"number\",\n        \"std\": 16,\n        \"min\": 15,\n        \"max\": 74,\n        \"num_unique_values\": 57,\n        \"samples\": [\n          23,\n          49,\n          37\n        ],\n        \"semantic_type\": \"\",\n        \"description\": \"\"\n      }\n    },\n    {\n      \"column\": \"Sex\",\n      \"properties\": {\n        \"dtype\": \"category\",\n        \"num_unique_values\": 2,\n        \"samples\": [\n          \"M\",\n          \"F\"\n        ],\n        \"semantic_type\": \"\",\n        \"description\": \"\"\n      }\n    },\n    {\n      \"column\": \"BP\",\n      \"properties\": {\n        \"dtype\": \"category\",\n        \"num_unique_values\": 3,\n        \"samples\": [\n          \"HIGH\",\n          \"LOW\"\n        ],\n        \"semantic_type\": \"\",\n        \"description\": \"\"\n      }\n    },\n    {\n      \"column\": \"Cholesterol\",\n      \"properties\": {\n        \"dtype\": \"category\",\n        \"num_unique_values\": 2,\n        \"samples\": [\n          \"NORMAL\",\n          \"HIGH\"\n        ],\n        \"semantic_type\": \"\",\n        \"description\": \"\"\n      }\n    },\n    {\n      \"column\": \"Na_to_K\",\n      \"properties\": {\n        \"dtype\": \"number\",\n        \"std\": 7.223955528459516,\n        \"min\": 6.269,\n        \"max\": 38.247,\n        \"num_unique_values\": 198,\n        \"samples\": [\n          27.05,\n          9.281\n        ],\n        \"semantic_type\": \"\",\n        \"description\": \"\"\n      }\n    },\n    {\n      \"column\": \"Drug\",\n      \"properties\": {\n        \"dtype\": \"category\",\n        \"num_unique_values\": 5,\n        \"samples\": [\n          \"drugC\",\n          \"drugB\"\n        ],\n        \"semantic_type\": \"\",\n        \"description\": \"\"\n      }\n    }\n  ]\n}",
              "type": "dataframe",
              "variable_name": "data"
            },
            "text/html": [
              "\n",
              "  <div id=\"df-2d192b06-e037-45dd-a2a4-1ec241f34cdc\" class=\"colab-df-container\">\n",
              "    <div>\n",
              "<style scoped>\n",
              "    .dataframe tbody tr th:only-of-type {\n",
              "        vertical-align: middle;\n",
              "    }\n",
              "\n",
              "    .dataframe tbody tr th {\n",
              "        vertical-align: top;\n",
              "    }\n",
              "\n",
              "    .dataframe thead th {\n",
              "        text-align: right;\n",
              "    }\n",
              "</style>\n",
              "<table border=\"1\" class=\"dataframe\">\n",
              "  <thead>\n",
              "    <tr style=\"text-align: right;\">\n",
              "      <th></th>\n",
              "      <th>Age</th>\n",
              "      <th>Sex</th>\n",
              "      <th>BP</th>\n",
              "      <th>Cholesterol</th>\n",
              "      <th>Na_to_K</th>\n",
              "      <th>Drug</th>\n",
              "    </tr>\n",
              "  </thead>\n",
              "  <tbody>\n",
              "    <tr>\n",
              "      <th>0</th>\n",
              "      <td>23</td>\n",
              "      <td>F</td>\n",
              "      <td>HIGH</td>\n",
              "      <td>HIGH</td>\n",
              "      <td>25.355</td>\n",
              "      <td>DrugY</td>\n",
              "    </tr>\n",
              "    <tr>\n",
              "      <th>1</th>\n",
              "      <td>47</td>\n",
              "      <td>M</td>\n",
              "      <td>LOW</td>\n",
              "      <td>HIGH</td>\n",
              "      <td>13.093</td>\n",
              "      <td>drugC</td>\n",
              "    </tr>\n",
              "    <tr>\n",
              "      <th>2</th>\n",
              "      <td>47</td>\n",
              "      <td>M</td>\n",
              "      <td>LOW</td>\n",
              "      <td>HIGH</td>\n",
              "      <td>10.114</td>\n",
              "      <td>drugC</td>\n",
              "    </tr>\n",
              "    <tr>\n",
              "      <th>3</th>\n",
              "      <td>28</td>\n",
              "      <td>F</td>\n",
              "      <td>NORMAL</td>\n",
              "      <td>HIGH</td>\n",
              "      <td>7.798</td>\n",
              "      <td>drugX</td>\n",
              "    </tr>\n",
              "    <tr>\n",
              "      <th>4</th>\n",
              "      <td>61</td>\n",
              "      <td>F</td>\n",
              "      <td>LOW</td>\n",
              "      <td>HIGH</td>\n",
              "      <td>18.043</td>\n",
              "      <td>DrugY</td>\n",
              "    </tr>\n",
              "  </tbody>\n",
              "</table>\n",
              "</div>\n",
              "    <div class=\"colab-df-buttons\">\n",
              "\n",
              "  <div class=\"colab-df-container\">\n",
              "    <button class=\"colab-df-convert\" onclick=\"convertToInteractive('df-2d192b06-e037-45dd-a2a4-1ec241f34cdc')\"\n",
              "            title=\"Convert this dataframe to an interactive table.\"\n",
              "            style=\"display:none;\">\n",
              "\n",
              "  <svg xmlns=\"http://www.w3.org/2000/svg\" height=\"24px\" viewBox=\"0 -960 960 960\">\n",
              "    <path d=\"M120-120v-720h720v720H120Zm60-500h600v-160H180v160Zm220 220h160v-160H400v160Zm0 220h160v-160H400v160ZM180-400h160v-160H180v160Zm440 0h160v-160H620v160ZM180-180h160v-160H180v160Zm440 0h160v-160H620v160Z\"/>\n",
              "  </svg>\n",
              "    </button>\n",
              "\n",
              "  <style>\n",
              "    .colab-df-container {\n",
              "      display:flex;\n",
              "      gap: 12px;\n",
              "    }\n",
              "\n",
              "    .colab-df-convert {\n",
              "      background-color: #E8F0FE;\n",
              "      border: none;\n",
              "      border-radius: 50%;\n",
              "      cursor: pointer;\n",
              "      display: none;\n",
              "      fill: #1967D2;\n",
              "      height: 32px;\n",
              "      padding: 0 0 0 0;\n",
              "      width: 32px;\n",
              "    }\n",
              "\n",
              "    .colab-df-convert:hover {\n",
              "      background-color: #E2EBFA;\n",
              "      box-shadow: 0px 1px 2px rgba(60, 64, 67, 0.3), 0px 1px 3px 1px rgba(60, 64, 67, 0.15);\n",
              "      fill: #174EA6;\n",
              "    }\n",
              "\n",
              "    .colab-df-buttons div {\n",
              "      margin-bottom: 4px;\n",
              "    }\n",
              "\n",
              "    [theme=dark] .colab-df-convert {\n",
              "      background-color: #3B4455;\n",
              "      fill: #D2E3FC;\n",
              "    }\n",
              "\n",
              "    [theme=dark] .colab-df-convert:hover {\n",
              "      background-color: #434B5C;\n",
              "      box-shadow: 0px 1px 3px 1px rgba(0, 0, 0, 0.15);\n",
              "      filter: drop-shadow(0px 1px 2px rgba(0, 0, 0, 0.3));\n",
              "      fill: #FFFFFF;\n",
              "    }\n",
              "  </style>\n",
              "\n",
              "    <script>\n",
              "      const buttonEl =\n",
              "        document.querySelector('#df-2d192b06-e037-45dd-a2a4-1ec241f34cdc button.colab-df-convert');\n",
              "      buttonEl.style.display =\n",
              "        google.colab.kernel.accessAllowed ? 'block' : 'none';\n",
              "\n",
              "      async function convertToInteractive(key) {\n",
              "        const element = document.querySelector('#df-2d192b06-e037-45dd-a2a4-1ec241f34cdc');\n",
              "        const dataTable =\n",
              "          await google.colab.kernel.invokeFunction('convertToInteractive',\n",
              "                                                    [key], {});\n",
              "        if (!dataTable) return;\n",
              "\n",
              "        const docLinkHtml = 'Like what you see? Visit the ' +\n",
              "          '<a target=\"_blank\" href=https://colab.research.google.com/notebooks/data_table.ipynb>data table notebook</a>'\n",
              "          + ' to learn more about interactive tables.';\n",
              "        element.innerHTML = '';\n",
              "        dataTable['output_type'] = 'display_data';\n",
              "        await google.colab.output.renderOutput(dataTable, element);\n",
              "        const docLink = document.createElement('div');\n",
              "        docLink.innerHTML = docLinkHtml;\n",
              "        element.appendChild(docLink);\n",
              "      }\n",
              "    </script>\n",
              "  </div>\n",
              "\n",
              "\n",
              "<div id=\"df-b68d9376-d867-4012-8101-8163e8a63765\">\n",
              "  <button class=\"colab-df-quickchart\" onclick=\"quickchart('df-b68d9376-d867-4012-8101-8163e8a63765')\"\n",
              "            title=\"Suggest charts\"\n",
              "            style=\"display:none;\">\n",
              "\n",
              "<svg xmlns=\"http://www.w3.org/2000/svg\" height=\"24px\"viewBox=\"0 0 24 24\"\n",
              "     width=\"24px\">\n",
              "    <g>\n",
              "        <path d=\"M19 3H5c-1.1 0-2 .9-2 2v14c0 1.1.9 2 2 2h14c1.1 0 2-.9 2-2V5c0-1.1-.9-2-2-2zM9 17H7v-7h2v7zm4 0h-2V7h2v10zm4 0h-2v-4h2v4z\"/>\n",
              "    </g>\n",
              "</svg>\n",
              "  </button>\n",
              "\n",
              "<style>\n",
              "  .colab-df-quickchart {\n",
              "      --bg-color: #E8F0FE;\n",
              "      --fill-color: #1967D2;\n",
              "      --hover-bg-color: #E2EBFA;\n",
              "      --hover-fill-color: #174EA6;\n",
              "      --disabled-fill-color: #AAA;\n",
              "      --disabled-bg-color: #DDD;\n",
              "  }\n",
              "\n",
              "  [theme=dark] .colab-df-quickchart {\n",
              "      --bg-color: #3B4455;\n",
              "      --fill-color: #D2E3FC;\n",
              "      --hover-bg-color: #434B5C;\n",
              "      --hover-fill-color: #FFFFFF;\n",
              "      --disabled-bg-color: #3B4455;\n",
              "      --disabled-fill-color: #666;\n",
              "  }\n",
              "\n",
              "  .colab-df-quickchart {\n",
              "    background-color: var(--bg-color);\n",
              "    border: none;\n",
              "    border-radius: 50%;\n",
              "    cursor: pointer;\n",
              "    display: none;\n",
              "    fill: var(--fill-color);\n",
              "    height: 32px;\n",
              "    padding: 0;\n",
              "    width: 32px;\n",
              "  }\n",
              "\n",
              "  .colab-df-quickchart:hover {\n",
              "    background-color: var(--hover-bg-color);\n",
              "    box-shadow: 0 1px 2px rgba(60, 64, 67, 0.3), 0 1px 3px 1px rgba(60, 64, 67, 0.15);\n",
              "    fill: var(--button-hover-fill-color);\n",
              "  }\n",
              "\n",
              "  .colab-df-quickchart-complete:disabled,\n",
              "  .colab-df-quickchart-complete:disabled:hover {\n",
              "    background-color: var(--disabled-bg-color);\n",
              "    fill: var(--disabled-fill-color);\n",
              "    box-shadow: none;\n",
              "  }\n",
              "\n",
              "  .colab-df-spinner {\n",
              "    border: 2px solid var(--fill-color);\n",
              "    border-color: transparent;\n",
              "    border-bottom-color: var(--fill-color);\n",
              "    animation:\n",
              "      spin 1s steps(1) infinite;\n",
              "  }\n",
              "\n",
              "  @keyframes spin {\n",
              "    0% {\n",
              "      border-color: transparent;\n",
              "      border-bottom-color: var(--fill-color);\n",
              "      border-left-color: var(--fill-color);\n",
              "    }\n",
              "    20% {\n",
              "      border-color: transparent;\n",
              "      border-left-color: var(--fill-color);\n",
              "      border-top-color: var(--fill-color);\n",
              "    }\n",
              "    30% {\n",
              "      border-color: transparent;\n",
              "      border-left-color: var(--fill-color);\n",
              "      border-top-color: var(--fill-color);\n",
              "      border-right-color: var(--fill-color);\n",
              "    }\n",
              "    40% {\n",
              "      border-color: transparent;\n",
              "      border-right-color: var(--fill-color);\n",
              "      border-top-color: var(--fill-color);\n",
              "    }\n",
              "    60% {\n",
              "      border-color: transparent;\n",
              "      border-right-color: var(--fill-color);\n",
              "    }\n",
              "    80% {\n",
              "      border-color: transparent;\n",
              "      border-right-color: var(--fill-color);\n",
              "      border-bottom-color: var(--fill-color);\n",
              "    }\n",
              "    90% {\n",
              "      border-color: transparent;\n",
              "      border-bottom-color: var(--fill-color);\n",
              "    }\n",
              "  }\n",
              "</style>\n",
              "\n",
              "  <script>\n",
              "    async function quickchart(key) {\n",
              "      const quickchartButtonEl =\n",
              "        document.querySelector('#' + key + ' button');\n",
              "      quickchartButtonEl.disabled = true;  // To prevent multiple clicks.\n",
              "      quickchartButtonEl.classList.add('colab-df-spinner');\n",
              "      try {\n",
              "        const charts = await google.colab.kernel.invokeFunction(\n",
              "            'suggestCharts', [key], {});\n",
              "      } catch (error) {\n",
              "        console.error('Error during call to suggestCharts:', error);\n",
              "      }\n",
              "      quickchartButtonEl.classList.remove('colab-df-spinner');\n",
              "      quickchartButtonEl.classList.add('colab-df-quickchart-complete');\n",
              "    }\n",
              "    (() => {\n",
              "      let quickchartButtonEl =\n",
              "        document.querySelector('#df-b68d9376-d867-4012-8101-8163e8a63765 button');\n",
              "      quickchartButtonEl.style.display =\n",
              "        google.colab.kernel.accessAllowed ? 'block' : 'none';\n",
              "    })();\n",
              "  </script>\n",
              "</div>\n",
              "\n",
              "    </div>\n",
              "  </div>\n"
            ],
            "text/plain": [
              "   Age Sex      BP Cholesterol  Na_to_K   Drug\n",
              "0   23   F    HIGH        HIGH   25.355  DrugY\n",
              "1   47   M     LOW        HIGH   13.093  drugC\n",
              "2   47   M     LOW        HIGH   10.114  drugC\n",
              "3   28   F  NORMAL        HIGH    7.798  drugX\n",
              "4   61   F     LOW        HIGH   18.043  DrugY"
            ]
          },
          "execution_count": 5,
          "metadata": {},
          "output_type": "execute_result"
        }
      ],
      "source": [
        "data.head()"
      ]
    },
    {
      "cell_type": "code",
      "execution_count": null,
      "id": "c2babd4c-bc37-4bed-a5bc-5170e8a431d4",
      "metadata": {
        "colab": {
          "base_uri": "https://localhost:8080/",
          "height": 300
        },
        "id": "c2babd4c-bc37-4bed-a5bc-5170e8a431d4",
        "outputId": "ae32e0bf-984c-4c79-f725-19e6ea1a6bee"
      },
      "outputs": [
        {
          "data": {
            "application/vnd.google.colaboratory.intrinsic+json": {
              "summary": "{\n  \"name\": \"data\",\n  \"rows\": 8,\n  \"fields\": [\n    {\n      \"column\": \"Age\",\n      \"properties\": {\n        \"dtype\": \"number\",\n        \"std\": 59.78957628560131,\n        \"min\": 15.0,\n        \"max\": 200.0,\n        \"num_unique_values\": 8,\n        \"samples\": [\n          44.315,\n          45.0,\n          200.0\n        ],\n        \"semantic_type\": \"\",\n        \"description\": \"\"\n      }\n    },\n    {\n      \"column\": \"Na_to_K\",\n      \"properties\": {\n        \"dtype\": \"number\",\n        \"std\": 65.85284973066084,\n        \"min\": 6.269,\n        \"max\": 200.0,\n        \"num_unique_values\": 8,\n        \"samples\": [\n          16.084485,\n          13.9365,\n          200.0\n        ],\n        \"semantic_type\": \"\",\n        \"description\": \"\"\n      }\n    }\n  ]\n}",
              "type": "dataframe"
            },
            "text/html": [
              "\n",
              "  <div id=\"df-6a3544c4-55ef-45a0-9703-c2a4cc379d53\" class=\"colab-df-container\">\n",
              "    <div>\n",
              "<style scoped>\n",
              "    .dataframe tbody tr th:only-of-type {\n",
              "        vertical-align: middle;\n",
              "    }\n",
              "\n",
              "    .dataframe tbody tr th {\n",
              "        vertical-align: top;\n",
              "    }\n",
              "\n",
              "    .dataframe thead th {\n",
              "        text-align: right;\n",
              "    }\n",
              "</style>\n",
              "<table border=\"1\" class=\"dataframe\">\n",
              "  <thead>\n",
              "    <tr style=\"text-align: right;\">\n",
              "      <th></th>\n",
              "      <th>Age</th>\n",
              "      <th>Na_to_K</th>\n",
              "    </tr>\n",
              "  </thead>\n",
              "  <tbody>\n",
              "    <tr>\n",
              "      <th>count</th>\n",
              "      <td>200.000000</td>\n",
              "      <td>200.000000</td>\n",
              "    </tr>\n",
              "    <tr>\n",
              "      <th>mean</th>\n",
              "      <td>44.315000</td>\n",
              "      <td>16.084485</td>\n",
              "    </tr>\n",
              "    <tr>\n",
              "      <th>std</th>\n",
              "      <td>16.544315</td>\n",
              "      <td>7.223956</td>\n",
              "    </tr>\n",
              "    <tr>\n",
              "      <th>min</th>\n",
              "      <td>15.000000</td>\n",
              "      <td>6.269000</td>\n",
              "    </tr>\n",
              "    <tr>\n",
              "      <th>25%</th>\n",
              "      <td>31.000000</td>\n",
              "      <td>10.445500</td>\n",
              "    </tr>\n",
              "    <tr>\n",
              "      <th>50%</th>\n",
              "      <td>45.000000</td>\n",
              "      <td>13.936500</td>\n",
              "    </tr>\n",
              "    <tr>\n",
              "      <th>75%</th>\n",
              "      <td>58.000000</td>\n",
              "      <td>19.380000</td>\n",
              "    </tr>\n",
              "    <tr>\n",
              "      <th>max</th>\n",
              "      <td>74.000000</td>\n",
              "      <td>38.247000</td>\n",
              "    </tr>\n",
              "  </tbody>\n",
              "</table>\n",
              "</div>\n",
              "    <div class=\"colab-df-buttons\">\n",
              "\n",
              "  <div class=\"colab-df-container\">\n",
              "    <button class=\"colab-df-convert\" onclick=\"convertToInteractive('df-6a3544c4-55ef-45a0-9703-c2a4cc379d53')\"\n",
              "            title=\"Convert this dataframe to an interactive table.\"\n",
              "            style=\"display:none;\">\n",
              "\n",
              "  <svg xmlns=\"http://www.w3.org/2000/svg\" height=\"24px\" viewBox=\"0 -960 960 960\">\n",
              "    <path d=\"M120-120v-720h720v720H120Zm60-500h600v-160H180v160Zm220 220h160v-160H400v160Zm0 220h160v-160H400v160ZM180-400h160v-160H180v160Zm440 0h160v-160H620v160ZM180-180h160v-160H180v160Zm440 0h160v-160H620v160Z\"/>\n",
              "  </svg>\n",
              "    </button>\n",
              "\n",
              "  <style>\n",
              "    .colab-df-container {\n",
              "      display:flex;\n",
              "      gap: 12px;\n",
              "    }\n",
              "\n",
              "    .colab-df-convert {\n",
              "      background-color: #E8F0FE;\n",
              "      border: none;\n",
              "      border-radius: 50%;\n",
              "      cursor: pointer;\n",
              "      display: none;\n",
              "      fill: #1967D2;\n",
              "      height: 32px;\n",
              "      padding: 0 0 0 0;\n",
              "      width: 32px;\n",
              "    }\n",
              "\n",
              "    .colab-df-convert:hover {\n",
              "      background-color: #E2EBFA;\n",
              "      box-shadow: 0px 1px 2px rgba(60, 64, 67, 0.3), 0px 1px 3px 1px rgba(60, 64, 67, 0.15);\n",
              "      fill: #174EA6;\n",
              "    }\n",
              "\n",
              "    .colab-df-buttons div {\n",
              "      margin-bottom: 4px;\n",
              "    }\n",
              "\n",
              "    [theme=dark] .colab-df-convert {\n",
              "      background-color: #3B4455;\n",
              "      fill: #D2E3FC;\n",
              "    }\n",
              "\n",
              "    [theme=dark] .colab-df-convert:hover {\n",
              "      background-color: #434B5C;\n",
              "      box-shadow: 0px 1px 3px 1px rgba(0, 0, 0, 0.15);\n",
              "      filter: drop-shadow(0px 1px 2px rgba(0, 0, 0, 0.3));\n",
              "      fill: #FFFFFF;\n",
              "    }\n",
              "  </style>\n",
              "\n",
              "    <script>\n",
              "      const buttonEl =\n",
              "        document.querySelector('#df-6a3544c4-55ef-45a0-9703-c2a4cc379d53 button.colab-df-convert');\n",
              "      buttonEl.style.display =\n",
              "        google.colab.kernel.accessAllowed ? 'block' : 'none';\n",
              "\n",
              "      async function convertToInteractive(key) {\n",
              "        const element = document.querySelector('#df-6a3544c4-55ef-45a0-9703-c2a4cc379d53');\n",
              "        const dataTable =\n",
              "          await google.colab.kernel.invokeFunction('convertToInteractive',\n",
              "                                                    [key], {});\n",
              "        if (!dataTable) return;\n",
              "\n",
              "        const docLinkHtml = 'Like what you see? Visit the ' +\n",
              "          '<a target=\"_blank\" href=https://colab.research.google.com/notebooks/data_table.ipynb>data table notebook</a>'\n",
              "          + ' to learn more about interactive tables.';\n",
              "        element.innerHTML = '';\n",
              "        dataTable['output_type'] = 'display_data';\n",
              "        await google.colab.output.renderOutput(dataTable, element);\n",
              "        const docLink = document.createElement('div');\n",
              "        docLink.innerHTML = docLinkHtml;\n",
              "        element.appendChild(docLink);\n",
              "      }\n",
              "    </script>\n",
              "  </div>\n",
              "\n",
              "\n",
              "<div id=\"df-3283ca4c-f558-4c19-a266-a326fa9bcac0\">\n",
              "  <button class=\"colab-df-quickchart\" onclick=\"quickchart('df-3283ca4c-f558-4c19-a266-a326fa9bcac0')\"\n",
              "            title=\"Suggest charts\"\n",
              "            style=\"display:none;\">\n",
              "\n",
              "<svg xmlns=\"http://www.w3.org/2000/svg\" height=\"24px\"viewBox=\"0 0 24 24\"\n",
              "     width=\"24px\">\n",
              "    <g>\n",
              "        <path d=\"M19 3H5c-1.1 0-2 .9-2 2v14c0 1.1.9 2 2 2h14c1.1 0 2-.9 2-2V5c0-1.1-.9-2-2-2zM9 17H7v-7h2v7zm4 0h-2V7h2v10zm4 0h-2v-4h2v4z\"/>\n",
              "    </g>\n",
              "</svg>\n",
              "  </button>\n",
              "\n",
              "<style>\n",
              "  .colab-df-quickchart {\n",
              "      --bg-color: #E8F0FE;\n",
              "      --fill-color: #1967D2;\n",
              "      --hover-bg-color: #E2EBFA;\n",
              "      --hover-fill-color: #174EA6;\n",
              "      --disabled-fill-color: #AAA;\n",
              "      --disabled-bg-color: #DDD;\n",
              "  }\n",
              "\n",
              "  [theme=dark] .colab-df-quickchart {\n",
              "      --bg-color: #3B4455;\n",
              "      --fill-color: #D2E3FC;\n",
              "      --hover-bg-color: #434B5C;\n",
              "      --hover-fill-color: #FFFFFF;\n",
              "      --disabled-bg-color: #3B4455;\n",
              "      --disabled-fill-color: #666;\n",
              "  }\n",
              "\n",
              "  .colab-df-quickchart {\n",
              "    background-color: var(--bg-color);\n",
              "    border: none;\n",
              "    border-radius: 50%;\n",
              "    cursor: pointer;\n",
              "    display: none;\n",
              "    fill: var(--fill-color);\n",
              "    height: 32px;\n",
              "    padding: 0;\n",
              "    width: 32px;\n",
              "  }\n",
              "\n",
              "  .colab-df-quickchart:hover {\n",
              "    background-color: var(--hover-bg-color);\n",
              "    box-shadow: 0 1px 2px rgba(60, 64, 67, 0.3), 0 1px 3px 1px rgba(60, 64, 67, 0.15);\n",
              "    fill: var(--button-hover-fill-color);\n",
              "  }\n",
              "\n",
              "  .colab-df-quickchart-complete:disabled,\n",
              "  .colab-df-quickchart-complete:disabled:hover {\n",
              "    background-color: var(--disabled-bg-color);\n",
              "    fill: var(--disabled-fill-color);\n",
              "    box-shadow: none;\n",
              "  }\n",
              "\n",
              "  .colab-df-spinner {\n",
              "    border: 2px solid var(--fill-color);\n",
              "    border-color: transparent;\n",
              "    border-bottom-color: var(--fill-color);\n",
              "    animation:\n",
              "      spin 1s steps(1) infinite;\n",
              "  }\n",
              "\n",
              "  @keyframes spin {\n",
              "    0% {\n",
              "      border-color: transparent;\n",
              "      border-bottom-color: var(--fill-color);\n",
              "      border-left-color: var(--fill-color);\n",
              "    }\n",
              "    20% {\n",
              "      border-color: transparent;\n",
              "      border-left-color: var(--fill-color);\n",
              "      border-top-color: var(--fill-color);\n",
              "    }\n",
              "    30% {\n",
              "      border-color: transparent;\n",
              "      border-left-color: var(--fill-color);\n",
              "      border-top-color: var(--fill-color);\n",
              "      border-right-color: var(--fill-color);\n",
              "    }\n",
              "    40% {\n",
              "      border-color: transparent;\n",
              "      border-right-color: var(--fill-color);\n",
              "      border-top-color: var(--fill-color);\n",
              "    }\n",
              "    60% {\n",
              "      border-color: transparent;\n",
              "      border-right-color: var(--fill-color);\n",
              "    }\n",
              "    80% {\n",
              "      border-color: transparent;\n",
              "      border-right-color: var(--fill-color);\n",
              "      border-bottom-color: var(--fill-color);\n",
              "    }\n",
              "    90% {\n",
              "      border-color: transparent;\n",
              "      border-bottom-color: var(--fill-color);\n",
              "    }\n",
              "  }\n",
              "</style>\n",
              "\n",
              "  <script>\n",
              "    async function quickchart(key) {\n",
              "      const quickchartButtonEl =\n",
              "        document.querySelector('#' + key + ' button');\n",
              "      quickchartButtonEl.disabled = true;  // To prevent multiple clicks.\n",
              "      quickchartButtonEl.classList.add('colab-df-spinner');\n",
              "      try {\n",
              "        const charts = await google.colab.kernel.invokeFunction(\n",
              "            'suggestCharts', [key], {});\n",
              "      } catch (error) {\n",
              "        console.error('Error during call to suggestCharts:', error);\n",
              "      }\n",
              "      quickchartButtonEl.classList.remove('colab-df-spinner');\n",
              "      quickchartButtonEl.classList.add('colab-df-quickchart-complete');\n",
              "    }\n",
              "    (() => {\n",
              "      let quickchartButtonEl =\n",
              "        document.querySelector('#df-3283ca4c-f558-4c19-a266-a326fa9bcac0 button');\n",
              "      quickchartButtonEl.style.display =\n",
              "        google.colab.kernel.accessAllowed ? 'block' : 'none';\n",
              "    })();\n",
              "  </script>\n",
              "</div>\n",
              "\n",
              "    </div>\n",
              "  </div>\n"
            ],
            "text/plain": [
              "              Age     Na_to_K\n",
              "count  200.000000  200.000000\n",
              "mean    44.315000   16.084485\n",
              "std     16.544315    7.223956\n",
              "min     15.000000    6.269000\n",
              "25%     31.000000   10.445500\n",
              "50%     45.000000   13.936500\n",
              "75%     58.000000   19.380000\n",
              "max     74.000000   38.247000"
            ]
          },
          "execution_count": 6,
          "metadata": {},
          "output_type": "execute_result"
        }
      ],
      "source": [
        "#Data Preprocessing\n",
        "data.describe()"
      ]
    },
    {
      "cell_type": "code",
      "execution_count": null,
      "id": "c9501293-f3ad-4238-8a24-834462c8f30c",
      "metadata": {
        "id": "c9501293-f3ad-4238-8a24-834462c8f30c"
      },
      "outputs": [],
      "source": []
    },
    {
      "cell_type": "code",
      "execution_count": null,
      "id": "6630d392-229f-4447-bfd6-ab67f50a9883",
      "metadata": {
        "colab": {
          "base_uri": "https://localhost:8080/"
        },
        "id": "6630d392-229f-4447-bfd6-ab67f50a9883",
        "outputId": "62d6d2ea-40ad-4908-c851-7c2fe244be53"
      },
      "outputs": [
        {
          "name": "stdout",
          "output_type": "stream",
          "text": [
            "<class 'pandas.core.frame.DataFrame'>\n",
            "RangeIndex: 200 entries, 0 to 199\n",
            "Data columns (total 6 columns):\n",
            " #   Column       Non-Null Count  Dtype  \n",
            "---  ------       --------------  -----  \n",
            " 0   Age          200 non-null    int64  \n",
            " 1   Sex          200 non-null    object \n",
            " 2   BP           200 non-null    object \n",
            " 3   Cholesterol  200 non-null    object \n",
            " 4   Na_to_K      200 non-null    float64\n",
            " 5   Drug         200 non-null    object \n",
            "dtypes: float64(1), int64(1), object(4)\n",
            "memory usage: 9.5+ KB\n"
          ]
        }
      ],
      "source": [
        "data.info()"
      ]
    },
    {
      "cell_type": "code",
      "execution_count": null,
      "id": "5df08b89-7c6d-42f6-9734-f38b69572a4f",
      "metadata": {
        "colab": {
          "base_uri": "https://localhost:8080/"
        },
        "id": "5df08b89-7c6d-42f6-9734-f38b69572a4f",
        "outputId": "1fd3643b-7c2c-4f18-c7ca-b813f4fa6bbe"
      },
      "outputs": [
        {
          "data": {
            "text/plain": [
              "Age            0\n",
              "Sex            0\n",
              "BP             0\n",
              "Cholesterol    0\n",
              "Na_to_K        0\n",
              "Drug           0\n",
              "dtype: int64"
            ]
          },
          "execution_count": 8,
          "metadata": {},
          "output_type": "execute_result"
        }
      ],
      "source": [
        "data.isnull().sum()"
      ]
    },
    {
      "cell_type": "code",
      "execution_count": null,
      "id": "74a70757-9ed1-4f1b-b6f7-468b9c38042c",
      "metadata": {
        "colab": {
          "base_uri": "https://localhost:8080/"
        },
        "id": "74a70757-9ed1-4f1b-b6f7-468b9c38042c",
        "outputId": "a1e9ba45-ec64-4091-92ef-df3cb34fa322"
      },
      "outputs": [
        {
          "data": {
            "text/plain": [
              "BP\n",
              "HIGH      77\n",
              "LOW       64\n",
              "NORMAL    59\n",
              "Name: count, dtype: int64"
            ]
          },
          "execution_count": 9,
          "metadata": {},
          "output_type": "execute_result"
        }
      ],
      "source": [
        "data[\"BP\"].value_counts()\n"
      ]
    },
    {
      "cell_type": "code",
      "execution_count": null,
      "id": "2b10aab9-6c1e-4a53-b890-44ac1ccd1f60",
      "metadata": {
        "colab": {
          "base_uri": "https://localhost:8080/"
        },
        "id": "2b10aab9-6c1e-4a53-b890-44ac1ccd1f60",
        "outputId": "7c6f3408-1063-4f05-e76c-7004b69d1a3a"
      },
      "outputs": [
        {
          "data": {
            "text/plain": [
              "Sex\n",
              "M    104\n",
              "F     96\n",
              "Name: count, dtype: int64"
            ]
          },
          "execution_count": 10,
          "metadata": {},
          "output_type": "execute_result"
        }
      ],
      "source": [
        "data[\"Sex\"].value_counts()"
      ]
    },
    {
      "cell_type": "code",
      "execution_count": null,
      "id": "320a1ac0-08d5-4213-b1da-92c8ac3c6cd8",
      "metadata": {
        "colab": {
          "base_uri": "https://localhost:8080/"
        },
        "id": "320a1ac0-08d5-4213-b1da-92c8ac3c6cd8",
        "outputId": "bfb1cbc0-2493-4260-ce11-a8f58f0302df"
      },
      "outputs": [
        {
          "data": {
            "text/plain": [
              "Drug\n",
              "DrugY    91\n",
              "drugX    54\n",
              "drugA    23\n",
              "drugC    16\n",
              "drugB    16\n",
              "Name: count, dtype: int64"
            ]
          },
          "execution_count": 11,
          "metadata": {},
          "output_type": "execute_result"
        }
      ],
      "source": [
        "data[\"Drug\"].value_counts()"
      ]
    },
    {
      "cell_type": "code",
      "execution_count": null,
      "id": "8b41d200-83da-4564-986e-3e1dddf32199",
      "metadata": {
        "id": "8b41d200-83da-4564-986e-3e1dddf32199"
      },
      "outputs": [],
      "source": [
        "le = LabelEncoder()\n",
        "data.Sex= le.fit_transform(data.Sex)\n",
        "data.BP = le.fit_transform(data.BP)\n",
        "data.Cholesterol = le.fit_transform(data.Cholesterol)\n",
        "data.Drug = le.fit_transform(data.Drug)"
      ]
    },
    {
      "cell_type": "code",
      "execution_count": null,
      "id": "17957598-d928-4876-8a0c-78d0e0db723f",
      "metadata": {
        "id": "17957598-d928-4876-8a0c-78d0e0db723f"
      },
      "outputs": [],
      "source": [
        "#Set features amd target variable\n",
        "x = data.drop(\"Drug\",axis=1).values\n",
        "y= data[\"Drug\"].values"
      ]
    },
    {
      "cell_type": "code",
      "execution_count": null,
      "id": "3c7145e4-82ec-4551-9898-db8cc40326ff",
      "metadata": {
        "colab": {
          "base_uri": "https://localhost:8080/"
        },
        "id": "3c7145e4-82ec-4551-9898-db8cc40326ff",
        "outputId": "0b5e2546-149d-4e51-9ed8-70e6a5511af5"
      },
      "outputs": [
        {
          "data": {
            "text/plain": [
              "array([0, 3, 3, 4, 0, 4, 0, 3, 0, 0, 3, 0, 0, 0, 4, 0, 4, 1, 3, 0, 0, 0,\n",
              "       0, 0, 0, 0, 0, 4, 0, 0, 4, 2, 4, 0, 4, 4, 1, 4, 4, 4, 0, 2, 0, 4,\n",
              "       4, 4, 1, 3, 0, 0, 0, 4, 0, 0, 2, 3, 2, 0, 4, 0, 0, 1, 0, 4, 2, 0,\n",
              "       1, 4, 0, 0, 2, 0, 4, 0, 0, 0, 1, 0, 1, 4, 2, 4, 3, 1, 3, 2, 4, 0,\n",
              "       0, 0, 0, 0, 0, 0, 0, 4, 0, 0, 0, 0, 1, 1, 3, 4, 0, 4, 4, 0, 2, 0,\n",
              "       1, 4, 4, 4, 4, 0, 4, 4, 1, 0, 0, 0, 0, 0, 2, 0, 0, 4, 0, 4, 0, 0,\n",
              "       4, 0, 0, 4, 2, 1, 2, 4, 1, 0, 2, 0, 1, 4, 4, 1, 4, 3, 1, 2, 4, 4,\n",
              "       0, 3, 1, 0, 3, 4, 4, 2, 4, 0, 0, 0, 0, 4, 0, 1, 4, 4, 0, 0, 1, 0,\n",
              "       1, 0, 0, 0, 0, 4, 4, 0, 0, 0, 2, 1, 0, 0, 0, 1, 0, 3, 0, 3, 3, 4,\n",
              "       4, 4])"
            ]
          },
          "execution_count": 14,
          "metadata": {},
          "output_type": "execute_result"
        }
      ],
      "source": [
        "y"
      ]
    },
    {
      "cell_type": "code",
      "execution_count": null,
      "id": "8699b762-f9c6-4b15-aa88-354f1074e21d",
      "metadata": {
        "colab": {
          "base_uri": "https://localhost:8080/"
        },
        "id": "8699b762-f9c6-4b15-aa88-354f1074e21d",
        "outputId": "52aafd7c-a20c-4470-f5c3-683583da0294"
      },
      "outputs": [
        {
          "data": {
            "text/plain": [
              "array([[23.   ,  0.   ,  0.   ,  0.   , 25.355],\n",
              "       [47.   ,  1.   ,  1.   ,  0.   , 13.093],\n",
              "       [47.   ,  1.   ,  1.   ,  0.   , 10.114],\n",
              "       [28.   ,  0.   ,  2.   ,  0.   ,  7.798],\n",
              "       [61.   ,  0.   ,  1.   ,  0.   , 18.043],\n",
              "       [22.   ,  0.   ,  2.   ,  0.   ,  8.607],\n",
              "       [49.   ,  0.   ,  2.   ,  0.   , 16.275],\n",
              "       [41.   ,  1.   ,  1.   ,  0.   , 11.037],\n",
              "       [60.   ,  1.   ,  2.   ,  0.   , 15.171],\n",
              "       [43.   ,  1.   ,  1.   ,  1.   , 19.368],\n",
              "       [47.   ,  0.   ,  1.   ,  0.   , 11.767],\n",
              "       [34.   ,  0.   ,  0.   ,  1.   , 19.199],\n",
              "       [43.   ,  1.   ,  1.   ,  0.   , 15.376],\n",
              "       [74.   ,  0.   ,  1.   ,  0.   , 20.942],\n",
              "       [50.   ,  0.   ,  2.   ,  0.   , 12.703],\n",
              "       [16.   ,  0.   ,  0.   ,  1.   , 15.516],\n",
              "       [69.   ,  1.   ,  1.   ,  1.   , 11.455],\n",
              "       [43.   ,  1.   ,  0.   ,  0.   , 13.972],\n",
              "       [23.   ,  1.   ,  1.   ,  0.   ,  7.298],\n",
              "       [32.   ,  0.   ,  0.   ,  1.   , 25.974],\n",
              "       [57.   ,  1.   ,  1.   ,  1.   , 19.128],\n",
              "       [63.   ,  1.   ,  2.   ,  0.   , 25.917],\n",
              "       [47.   ,  1.   ,  1.   ,  1.   , 30.568],\n",
              "       [48.   ,  0.   ,  1.   ,  0.   , 15.036],\n",
              "       [33.   ,  0.   ,  1.   ,  0.   , 33.486],\n",
              "       [28.   ,  0.   ,  0.   ,  1.   , 18.809],\n",
              "       [31.   ,  1.   ,  0.   ,  0.   , 30.366],\n",
              "       [49.   ,  0.   ,  2.   ,  1.   ,  9.381],\n",
              "       [39.   ,  0.   ,  1.   ,  1.   , 22.697],\n",
              "       [45.   ,  1.   ,  1.   ,  0.   , 17.951],\n",
              "       [18.   ,  0.   ,  2.   ,  1.   ,  8.75 ],\n",
              "       [74.   ,  1.   ,  0.   ,  0.   ,  9.567],\n",
              "       [49.   ,  1.   ,  1.   ,  1.   , 11.014],\n",
              "       [65.   ,  0.   ,  0.   ,  1.   , 31.876],\n",
              "       [53.   ,  1.   ,  2.   ,  0.   , 14.133],\n",
              "       [46.   ,  1.   ,  2.   ,  1.   ,  7.285],\n",
              "       [32.   ,  1.   ,  0.   ,  1.   ,  9.445],\n",
              "       [39.   ,  1.   ,  1.   ,  1.   , 13.938],\n",
              "       [39.   ,  0.   ,  2.   ,  1.   ,  9.709],\n",
              "       [15.   ,  1.   ,  2.   ,  0.   ,  9.084],\n",
              "       [73.   ,  0.   ,  2.   ,  0.   , 19.221],\n",
              "       [58.   ,  0.   ,  0.   ,  1.   , 14.239],\n",
              "       [50.   ,  1.   ,  2.   ,  1.   , 15.79 ],\n",
              "       [23.   ,  1.   ,  2.   ,  0.   , 12.26 ],\n",
              "       [50.   ,  0.   ,  2.   ,  1.   , 12.295],\n",
              "       [66.   ,  0.   ,  2.   ,  1.   ,  8.107],\n",
              "       [37.   ,  0.   ,  0.   ,  0.   , 13.091],\n",
              "       [68.   ,  1.   ,  1.   ,  0.   , 10.291],\n",
              "       [23.   ,  1.   ,  2.   ,  0.   , 31.686],\n",
              "       [28.   ,  0.   ,  1.   ,  0.   , 19.796],\n",
              "       [58.   ,  0.   ,  0.   ,  0.   , 19.416],\n",
              "       [67.   ,  1.   ,  2.   ,  1.   , 10.898],\n",
              "       [62.   ,  1.   ,  1.   ,  1.   , 27.183],\n",
              "       [24.   ,  0.   ,  0.   ,  1.   , 18.457],\n",
              "       [68.   ,  0.   ,  0.   ,  1.   , 10.189],\n",
              "       [26.   ,  0.   ,  1.   ,  0.   , 14.16 ],\n",
              "       [65.   ,  1.   ,  0.   ,  1.   , 11.34 ],\n",
              "       [40.   ,  1.   ,  0.   ,  0.   , 27.826],\n",
              "       [60.   ,  1.   ,  2.   ,  1.   , 10.091],\n",
              "       [34.   ,  1.   ,  0.   ,  0.   , 18.703],\n",
              "       [38.   ,  0.   ,  1.   ,  1.   , 29.875],\n",
              "       [24.   ,  1.   ,  0.   ,  1.   ,  9.475],\n",
              "       [67.   ,  1.   ,  1.   ,  1.   , 20.693],\n",
              "       [45.   ,  1.   ,  1.   ,  1.   ,  8.37 ],\n",
              "       [60.   ,  0.   ,  0.   ,  0.   , 13.303],\n",
              "       [68.   ,  0.   ,  2.   ,  1.   , 27.05 ],\n",
              "       [29.   ,  1.   ,  0.   ,  0.   , 12.856],\n",
              "       [17.   ,  1.   ,  2.   ,  1.   , 10.832],\n",
              "       [54.   ,  1.   ,  2.   ,  0.   , 24.658],\n",
              "       [18.   ,  0.   ,  0.   ,  1.   , 24.276],\n",
              "       [70.   ,  1.   ,  0.   ,  0.   , 13.967],\n",
              "       [28.   ,  0.   ,  2.   ,  0.   , 19.675],\n",
              "       [24.   ,  0.   ,  2.   ,  0.   , 10.605],\n",
              "       [41.   ,  0.   ,  2.   ,  1.   , 22.905],\n",
              "       [31.   ,  1.   ,  0.   ,  1.   , 17.069],\n",
              "       [26.   ,  1.   ,  1.   ,  1.   , 20.909],\n",
              "       [36.   ,  0.   ,  0.   ,  0.   , 11.198],\n",
              "       [26.   ,  0.   ,  0.   ,  1.   , 19.161],\n",
              "       [19.   ,  0.   ,  0.   ,  0.   , 13.313],\n",
              "       [32.   ,  0.   ,  1.   ,  1.   , 10.84 ],\n",
              "       [60.   ,  1.   ,  0.   ,  0.   , 13.934],\n",
              "       [64.   ,  1.   ,  2.   ,  0.   ,  7.761],\n",
              "       [32.   ,  0.   ,  1.   ,  0.   ,  9.712],\n",
              "       [38.   ,  0.   ,  0.   ,  1.   , 11.326],\n",
              "       [47.   ,  0.   ,  1.   ,  0.   , 10.067],\n",
              "       [59.   ,  1.   ,  0.   ,  0.   , 13.935],\n",
              "       [51.   ,  0.   ,  2.   ,  0.   , 13.597],\n",
              "       [69.   ,  1.   ,  1.   ,  0.   , 15.478],\n",
              "       [37.   ,  0.   ,  0.   ,  1.   , 23.091],\n",
              "       [50.   ,  0.   ,  2.   ,  1.   , 17.211],\n",
              "       [62.   ,  1.   ,  2.   ,  0.   , 16.594],\n",
              "       [41.   ,  1.   ,  0.   ,  1.   , 15.156],\n",
              "       [29.   ,  0.   ,  0.   ,  0.   , 29.45 ],\n",
              "       [42.   ,  0.   ,  1.   ,  1.   , 29.271],\n",
              "       [56.   ,  1.   ,  1.   ,  0.   , 15.015],\n",
              "       [36.   ,  1.   ,  1.   ,  1.   , 11.424],\n",
              "       [58.   ,  0.   ,  1.   ,  0.   , 38.247],\n",
              "       [56.   ,  0.   ,  0.   ,  0.   , 25.395],\n",
              "       [20.   ,  1.   ,  0.   ,  1.   , 35.639],\n",
              "       [15.   ,  0.   ,  0.   ,  1.   , 16.725],\n",
              "       [31.   ,  1.   ,  0.   ,  1.   , 11.871],\n",
              "       [45.   ,  0.   ,  0.   ,  0.   , 12.854],\n",
              "       [28.   ,  0.   ,  1.   ,  0.   , 13.127],\n",
              "       [56.   ,  1.   ,  2.   ,  0.   ,  8.966],\n",
              "       [22.   ,  1.   ,  0.   ,  1.   , 28.294],\n",
              "       [37.   ,  1.   ,  1.   ,  1.   ,  8.968],\n",
              "       [22.   ,  1.   ,  2.   ,  0.   , 11.953],\n",
              "       [42.   ,  1.   ,  1.   ,  0.   , 20.013],\n",
              "       [72.   ,  1.   ,  0.   ,  1.   ,  9.677],\n",
              "       [23.   ,  1.   ,  2.   ,  0.   , 16.85 ],\n",
              "       [50.   ,  1.   ,  0.   ,  0.   ,  7.49 ],\n",
              "       [47.   ,  0.   ,  2.   ,  1.   ,  6.683],\n",
              "       [35.   ,  1.   ,  1.   ,  1.   ,  9.17 ],\n",
              "       [65.   ,  0.   ,  1.   ,  1.   , 13.769],\n",
              "       [20.   ,  0.   ,  2.   ,  1.   ,  9.281],\n",
              "       [51.   ,  1.   ,  0.   ,  0.   , 18.295],\n",
              "       [67.   ,  1.   ,  2.   ,  1.   ,  9.514],\n",
              "       [40.   ,  0.   ,  2.   ,  0.   , 10.103],\n",
              "       [32.   ,  0.   ,  0.   ,  1.   , 10.292],\n",
              "       [61.   ,  0.   ,  0.   ,  0.   , 25.475],\n",
              "       [28.   ,  1.   ,  2.   ,  0.   , 27.064],\n",
              "       [15.   ,  1.   ,  0.   ,  1.   , 17.206],\n",
              "       [34.   ,  1.   ,  2.   ,  0.   , 22.456],\n",
              "       [36.   ,  0.   ,  2.   ,  0.   , 16.753],\n",
              "       [53.   ,  0.   ,  0.   ,  1.   , 12.495],\n",
              "       [19.   ,  0.   ,  0.   ,  1.   , 25.969],\n",
              "       [66.   ,  1.   ,  0.   ,  0.   , 16.347],\n",
              "       [35.   ,  1.   ,  2.   ,  1.   ,  7.845],\n",
              "       [47.   ,  1.   ,  1.   ,  1.   , 33.542],\n",
              "       [32.   ,  0.   ,  2.   ,  0.   ,  7.477],\n",
              "       [70.   ,  0.   ,  2.   ,  0.   , 20.489],\n",
              "       [52.   ,  1.   ,  1.   ,  1.   , 32.922],\n",
              "       [49.   ,  1.   ,  1.   ,  1.   , 13.598],\n",
              "       [24.   ,  1.   ,  2.   ,  0.   , 25.786],\n",
              "       [42.   ,  0.   ,  0.   ,  0.   , 21.036],\n",
              "       [74.   ,  1.   ,  1.   ,  1.   , 11.939],\n",
              "       [55.   ,  0.   ,  0.   ,  0.   , 10.977],\n",
              "       [35.   ,  0.   ,  0.   ,  0.   , 12.894],\n",
              "       [51.   ,  1.   ,  0.   ,  1.   , 11.343],\n",
              "       [69.   ,  0.   ,  2.   ,  0.   , 10.065],\n",
              "       [49.   ,  1.   ,  0.   ,  1.   ,  6.269],\n",
              "       [64.   ,  0.   ,  1.   ,  1.   , 25.741],\n",
              "       [60.   ,  1.   ,  0.   ,  1.   ,  8.621],\n",
              "       [74.   ,  1.   ,  0.   ,  1.   , 15.436],\n",
              "       [39.   ,  1.   ,  0.   ,  0.   ,  9.664],\n",
              "       [61.   ,  1.   ,  2.   ,  0.   ,  9.443],\n",
              "       [37.   ,  0.   ,  1.   ,  1.   , 12.006],\n",
              "       [26.   ,  0.   ,  0.   ,  1.   , 12.307],\n",
              "       [61.   ,  0.   ,  1.   ,  1.   ,  7.34 ],\n",
              "       [22.   ,  1.   ,  1.   ,  0.   ,  8.151],\n",
              "       [49.   ,  1.   ,  0.   ,  1.   ,  8.7  ],\n",
              "       [68.   ,  1.   ,  0.   ,  0.   , 11.009],\n",
              "       [55.   ,  1.   ,  2.   ,  1.   ,  7.261],\n",
              "       [72.   ,  0.   ,  1.   ,  1.   , 14.642],\n",
              "       [37.   ,  1.   ,  1.   ,  1.   , 16.724],\n",
              "       [49.   ,  1.   ,  1.   ,  0.   , 10.537],\n",
              "       [31.   ,  1.   ,  0.   ,  1.   , 11.227],\n",
              "       [53.   ,  1.   ,  1.   ,  0.   , 22.963],\n",
              "       [59.   ,  0.   ,  1.   ,  0.   , 10.444],\n",
              "       [34.   ,  0.   ,  1.   ,  1.   , 12.923],\n",
              "       [30.   ,  0.   ,  2.   ,  0.   , 10.443],\n",
              "       [57.   ,  0.   ,  0.   ,  1.   ,  9.945],\n",
              "       [43.   ,  1.   ,  2.   ,  1.   , 12.859],\n",
              "       [21.   ,  0.   ,  0.   ,  1.   , 28.632],\n",
              "       [16.   ,  1.   ,  0.   ,  1.   , 19.007],\n",
              "       [38.   ,  1.   ,  1.   ,  0.   , 18.295],\n",
              "       [58.   ,  0.   ,  1.   ,  0.   , 26.645],\n",
              "       [57.   ,  0.   ,  2.   ,  0.   , 14.216],\n",
              "       [51.   ,  0.   ,  1.   ,  1.   , 23.003],\n",
              "       [20.   ,  0.   ,  0.   ,  0.   , 11.262],\n",
              "       [28.   ,  0.   ,  2.   ,  0.   , 12.879],\n",
              "       [45.   ,  1.   ,  1.   ,  1.   , 10.017],\n",
              "       [39.   ,  0.   ,  2.   ,  1.   , 17.225],\n",
              "       [41.   ,  0.   ,  1.   ,  1.   , 18.739],\n",
              "       [42.   ,  1.   ,  0.   ,  1.   , 12.766],\n",
              "       [73.   ,  0.   ,  0.   ,  0.   , 18.348],\n",
              "       [48.   ,  1.   ,  0.   ,  1.   , 10.446],\n",
              "       [25.   ,  1.   ,  2.   ,  0.   , 19.011],\n",
              "       [39.   ,  1.   ,  2.   ,  0.   , 15.969],\n",
              "       [67.   ,  0.   ,  2.   ,  0.   , 15.891],\n",
              "       [22.   ,  0.   ,  0.   ,  1.   , 22.818],\n",
              "       [59.   ,  0.   ,  2.   ,  0.   , 13.884],\n",
              "       [20.   ,  0.   ,  1.   ,  1.   , 11.686],\n",
              "       [36.   ,  0.   ,  0.   ,  1.   , 15.49 ],\n",
              "       [18.   ,  0.   ,  0.   ,  0.   , 37.188],\n",
              "       [57.   ,  0.   ,  2.   ,  1.   , 25.893],\n",
              "       [70.   ,  1.   ,  0.   ,  0.   ,  9.849],\n",
              "       [47.   ,  1.   ,  0.   ,  0.   , 10.403],\n",
              "       [65.   ,  1.   ,  0.   ,  1.   , 34.997],\n",
              "       [64.   ,  1.   ,  0.   ,  1.   , 20.932],\n",
              "       [58.   ,  1.   ,  0.   ,  0.   , 18.991],\n",
              "       [23.   ,  1.   ,  0.   ,  0.   ,  8.011],\n",
              "       [72.   ,  1.   ,  1.   ,  0.   , 16.31 ],\n",
              "       [72.   ,  1.   ,  1.   ,  0.   ,  6.769],\n",
              "       [46.   ,  0.   ,  0.   ,  0.   , 34.686],\n",
              "       [56.   ,  0.   ,  1.   ,  0.   , 11.567],\n",
              "       [16.   ,  1.   ,  1.   ,  0.   , 12.006],\n",
              "       [52.   ,  1.   ,  2.   ,  0.   ,  9.894],\n",
              "       [23.   ,  1.   ,  2.   ,  1.   , 14.02 ],\n",
              "       [40.   ,  0.   ,  1.   ,  1.   , 11.349]])"
            ]
          },
          "execution_count": 15,
          "metadata": {},
          "output_type": "execute_result"
        }
      ],
      "source": [
        "x"
      ]
    },
    {
      "cell_type": "code",
      "execution_count": null,
      "id": "586f3a30-b57d-4953-a8f1-cd6f10a491c3",
      "metadata": {
        "id": "586f3a30-b57d-4953-a8f1-cd6f10a491c3"
      },
      "outputs": [],
      "source": [
        "#Feature scaling\n",
        "ss = StandardScaler()\n",
        "x = ss.fit_transform(x)"
      ]
    },
    {
      "cell_type": "code",
      "execution_count": null,
      "id": "5010914f-5bef-41e4-9a43-84b58788c4b6",
      "metadata": {
        "id": "5010914f-5bef-41e4-9a43-84b58788c4b6"
      },
      "outputs": [],
      "source": [
        "#Spliting the data into training and testing\n",
        "from sklearn.model_selection import train_test_split\n",
        "from tensorflow import keras"
      ]
    },
    {
      "cell_type": "code",
      "execution_count": null,
      "id": "055b9673-b645-407d-a168-f54de43c6e85",
      "metadata": {
        "id": "055b9673-b645-407d-a168-f54de43c6e85"
      },
      "outputs": [],
      "source": [
        "x_train,x_test, y_train, y_test = train_test_split(x,y, test_size = 0.2, random_state = 42)"
      ]
    },
    {
      "cell_type": "code",
      "execution_count": null,
      "id": "09159729-1878-4310-8061-696077c6cbdc",
      "metadata": {
        "id": "09159729-1878-4310-8061-696077c6cbdc"
      },
      "outputs": [],
      "source": [
        "#converting features into float for model building\n",
        "Y_train = keras.utils.to_categorical(y_train)\n",
        "Y_test = keras.utils.to_categorical(y_test)"
      ]
    },
    {
      "cell_type": "code",
      "execution_count": null,
      "id": "92d64af1-5380-43a4-bc82-0e531e624561",
      "metadata": {
        "id": "92d64af1-5380-43a4-bc82-0e531e624561"
      },
      "outputs": [],
      "source": [
        "#model building\n",
        "import tensorflow\n",
        "from tensorflow import keras\n",
        "from tensorflow.keras import Sequential\n",
        "from tensorflow.keras.layers import Dense"
      ]
    },
    {
      "cell_type": "code",
      "execution_count": null,
      "id": "a3895728-a380-42fa-ae70-f490bb002634",
      "metadata": {
        "id": "a3895728-a380-42fa-ae70-f490bb002634"
      },
      "outputs": [],
      "source": [
        "model = Sequential()\n",
        "model.add(Dense(12, input_dim = 5,activation = 'relu'))\n",
        "model.add(Dense(24, activation = 'relu'))\n",
        "model.add(Dense(36, activation = 'relu'))\n",
        "model.add(Dense(5, activation = \"softmax\"))\n"
      ]
    },
    {
      "cell_type": "code",
      "execution_count": null,
      "id": "38945358-e092-4dbc-b9c7-e60b48443e89",
      "metadata": {
        "colab": {
          "base_uri": "https://localhost:8080/"
        },
        "id": "38945358-e092-4dbc-b9c7-e60b48443e89",
        "outputId": "901d5247-92d0-4526-ed69-ad7ad7a7aa14"
      },
      "outputs": [
        {
          "name": "stdout",
          "output_type": "stream",
          "text": [
            "Model: \"sequential_1\"\n",
            "_________________________________________________________________\n",
            " Layer (type)                Output Shape              Param #   \n",
            "=================================================================\n",
            " dense_4 (Dense)             (None, 12)                72        \n",
            "                                                                 \n",
            " dense_5 (Dense)             (None, 24)                312       \n",
            "                                                                 \n",
            " dense_6 (Dense)             (None, 36)                900       \n",
            "                                                                 \n",
            " dense_7 (Dense)             (None, 5)                 185       \n",
            "                                                                 \n",
            "=================================================================\n",
            "Total params: 1469 (5.74 KB)\n",
            "Trainable params: 1469 (5.74 KB)\n",
            "Non-trainable params: 0 (0.00 Byte)\n",
            "_________________________________________________________________\n"
          ]
        }
      ],
      "source": [
        "model.summary()"
      ]
    },
    {
      "cell_type": "code",
      "execution_count": null,
      "id": "00e507ae-75b5-41ad-9831-9b32ae976cd1",
      "metadata": {
        "id": "00e507ae-75b5-41ad-9831-9b32ae976cd1"
      },
      "outputs": [],
      "source": [
        "#compile the model\n",
        "model.compile(loss = \"categorical_crossentropy\",optimizer = 'adam', metrics = [\"accuracy\"])"
      ]
    },
    {
      "cell_type": "code",
      "execution_count": null,
      "id": "01cf938c-3b91-427b-93f1-e64b34072848",
      "metadata": {
        "colab": {
          "base_uri": "https://localhost:8080/"
        },
        "id": "01cf938c-3b91-427b-93f1-e64b34072848",
        "outputId": "5c8ed58e-3301-4647-cc7a-7585875d7bb0"
      },
      "outputs": [
        {
          "name": "stdout",
          "output_type": "stream",
          "text": [
            "Epoch 1/20\n",
            "16/16 [==============================] - 1s 4ms/step - loss: 1.6156 - accuracy: 0.2313\n",
            "Epoch 2/20\n",
            "16/16 [==============================] - 0s 3ms/step - loss: 1.5094 - accuracy: 0.4313\n",
            "Epoch 3/20\n",
            "16/16 [==============================] - 0s 2ms/step - loss: 1.4183 - accuracy: 0.5813\n",
            "Epoch 4/20\n",
            "16/16 [==============================] - 0s 2ms/step - loss: 1.3243 - accuracy: 0.6250\n",
            "Epoch 5/20\n",
            "16/16 [==============================] - 0s 2ms/step - loss: 1.2313 - accuracy: 0.6625\n",
            "Epoch 6/20\n",
            "16/16 [==============================] - 0s 2ms/step - loss: 1.1342 - accuracy: 0.6875\n",
            "Epoch 7/20\n",
            "16/16 [==============================] - 0s 2ms/step - loss: 1.0489 - accuracy: 0.6812\n",
            "Epoch 8/20\n",
            "16/16 [==============================] - 0s 3ms/step - loss: 0.9729 - accuracy: 0.6875\n",
            "Epoch 9/20\n",
            "16/16 [==============================] - 0s 2ms/step - loss: 0.9034 - accuracy: 0.6938\n",
            "Epoch 10/20\n",
            "16/16 [==============================] - 0s 2ms/step - loss: 0.8405 - accuracy: 0.7188\n",
            "Epoch 11/20\n",
            "16/16 [==============================] - 0s 2ms/step - loss: 0.7893 - accuracy: 0.7188\n",
            "Epoch 12/20\n",
            "16/16 [==============================] - 0s 2ms/step - loss: 0.7381 - accuracy: 0.7312\n",
            "Epoch 13/20\n",
            "16/16 [==============================] - 0s 2ms/step - loss: 0.6912 - accuracy: 0.7563\n",
            "Epoch 14/20\n",
            "16/16 [==============================] - 0s 2ms/step - loss: 0.6472 - accuracy: 0.7625\n",
            "Epoch 15/20\n",
            "16/16 [==============================] - 0s 2ms/step - loss: 0.6072 - accuracy: 0.7812\n",
            "Epoch 16/20\n",
            "16/16 [==============================] - 0s 2ms/step - loss: 0.5706 - accuracy: 0.7937\n",
            "Epoch 17/20\n",
            "16/16 [==============================] - 0s 2ms/step - loss: 0.5341 - accuracy: 0.8188\n",
            "Epoch 18/20\n",
            "16/16 [==============================] - 0s 2ms/step - loss: 0.4955 - accuracy: 0.8188\n",
            "Epoch 19/20\n",
            "16/16 [==============================] - 0s 3ms/step - loss: 0.4720 - accuracy: 0.8313\n",
            "Epoch 20/20\n",
            "16/16 [==============================] - 0s 2ms/step - loss: 0.4423 - accuracy: 0.8438\n"
          ]
        },
        {
          "data": {
            "text/plain": [
              "<keras.src.callbacks.History at 0x7cf4049fbe20>"
            ]
          },
          "execution_count": 31,
          "metadata": {},
          "output_type": "execute_result"
        }
      ],
      "source": [
        "#Train the model\n",
        "model.fit(x_train,Y_train, batch_size=10, epochs=20)"
      ]
    },
    {
      "cell_type": "code",
      "execution_count": null,
      "id": "1a8ebbf7-f584-467e-87ee-972244023a8d",
      "metadata": {
        "colab": {
          "base_uri": "https://localhost:8080/"
        },
        "id": "1a8ebbf7-f584-467e-87ee-972244023a8d",
        "outputId": "a805d79d-e702-4acf-ba1e-f7460b5dd31d"
      },
      "outputs": [
        {
          "name": "stdout",
          "output_type": "stream",
          "text": [
            "2/2 [==============================] - 0s 11ms/step - loss: 0.5960 - accuracy: 0.7250\n",
            "Accuracy is: 72.50000238418579\n"
          ]
        }
      ],
      "source": [
        "#test the accuracy\n",
        "loss, accuracy = model.evaluate(x_test, Y_test)\n",
        "print(\"Accuracy is:\", accuracy*100)"
      ]
    },
    {
      "cell_type": "code",
      "execution_count": null,
      "id": "e33ad05e-8b00-444e-814c-79febf8cbf46",
      "metadata": {
        "id": "e33ad05e-8b00-444e-814c-79febf8cbf46"
      },
      "outputs": [],
      "source": []
    }
  ],
  "metadata": {
    "colab": {
      "provenance": []
    },
    "kernelspec": {
      "display_name": "Python 3 (ipykernel)",
      "language": "python",
      "name": "python3"
    },
    "language_info": {
      "codemirror_mode": {
        "name": "ipython",
        "version": 3
      },
      "file_extension": ".py",
      "mimetype": "text/x-python",
      "name": "python",
      "nbconvert_exporter": "python",
      "pygments_lexer": "ipython3",
      "version": "3.12.0"
    }
  },
  "nbformat": 4,
  "nbformat_minor": 5
}
